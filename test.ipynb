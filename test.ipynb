{
 "cells": [
  {
   "cell_type": "code",
   "execution_count": 1,
   "metadata": {},
   "outputs": [
    {
     "name": "stdout",
     "output_type": "stream",
     "text": [
      "False\n"
     ]
    }
   ],
   "source": [
    "# Library import \n",
    "###################################################\n",
    "\n",
    "import copy, sys, os, time\n",
    "\n",
    "# Declaracion variables\n",
    "###################################################\n",
    "\n",
    "# limpia_pantalla = 'clear' if os.name == 'posix' else 'CLS'\n",
    "discos = 4\n",
    "torres = 3\n",
    "lista_torres = []\n",
    "origen = 1\n",
    "destino = 3\n",
    "torres_intermedias = []\n",
    "estado_inicial = [[1,2,3],[],[]]\n",
    "estado_actual = [[1,2,3],[],[]]\n",
    "estado_final = [[],[],[1,2,3]]\n",
    "movimiento_actual = 0\n",
    "\n",
    "\n",
    "def Comprueba_estado(state):\n",
    "    for state in estado_actual:\n",
    "        if state and state==state.sort():\n",
    "            return True\n",
    "        elif not state:\n",
    "            return True\n",
    "        else:\n",
    "            return False\n",
    "\n",
    "print(Comprueba_estado(estado_actual))"
   ]
  },
  {
   "cell_type": "code",
   "execution_count": 6,
   "metadata": {},
   "outputs": [
    {
     "name": "stdout",
     "output_type": "stream",
     "text": [
      "[1, 2, 3]\n",
      "[1, 2, 3]\n",
      "True\n",
      "[]\n",
      "[]\n",
      "True\n",
      "[]\n",
      "[]\n",
      "True\n"
     ]
    }
   ],
   "source": [
    "for state in estado_actual:\n",
    "    print(state)\n",
    "    x=state\n",
    "    x.sort()\n",
    "    print(x)\n",
    "    if state and state==x:\n",
    "        print('True')\n",
    "    elif not state:\n",
    "        print('True')\n",
    "    else:\n",
    "        print('False')"
   ]
  }
 ],
 "metadata": {
  "kernelspec": {
   "display_name": "base",
   "language": "python",
   "name": "python3"
  },
  "language_info": {
   "codemirror_mode": {
    "name": "ipython",
    "version": 3
   },
   "file_extension": ".py",
   "mimetype": "text/x-python",
   "name": "python",
   "nbconvert_exporter": "python",
   "pygments_lexer": "ipython3",
   "version": "3.9.13 (main, Aug 25 2022, 23:51:50) [MSC v.1916 64 bit (AMD64)]"
  },
  "orig_nbformat": 4,
  "vscode": {
   "interpreter": {
    "hash": "cc1332a8f7e0451bc5f848be8d720f7248ccdc90765305aee5ab7d17e4c29ab1"
   }
  }
 },
 "nbformat": 4,
 "nbformat_minor": 2
}
