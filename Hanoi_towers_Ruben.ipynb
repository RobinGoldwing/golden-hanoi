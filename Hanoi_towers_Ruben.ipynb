{
 "cells": [
  {
   "attachments": {},
   "cell_type": "markdown",
   "metadata": {},
   "source": [
    "### Alumno : Rubén Álvarez Mosquera\n",
    "---"
   ]
  },
  {
   "attachments": {},
   "cell_type": "markdown",
   "metadata": {},
   "source": [
    "# Torres de Hanoi\n",
    "---\n",
    "---"
   ]
  },
  {
   "attachments": {},
   "cell_type": "markdown",
   "metadata": {},
   "source": [
    "#### Importamos librerías\n",
    "---"
   ]
  },
  {
   "cell_type": "code",
   "execution_count": 38,
   "metadata": {},
   "outputs": [],
   "source": [
    "# Library import \n",
    "###################################################\n",
    "import copy, sys, os, time"
   ]
  },
  {
   "attachments": {},
   "cell_type": "markdown",
   "metadata": {},
   "source": [
    "#### Declaramos variables\n",
    "---"
   ]
  },
  {
   "cell_type": "code",
   "execution_count": 39,
   "metadata": {},
   "outputs": [],
   "source": [
    "# Declaracion variables\n",
    "###################################################\n",
    "\n",
    "limpia_pantalla = 'clear' if os.name == 'posix' else 'CLS'\n",
    "discos = 0\n",
    "torres = 0\n",
    "origen = 0\n",
    "destino = 0\n",
    "estado_inicial = []\n",
    "estado_actual = []\n",
    "estado_final = []\n",
    "movimientos_prediccion = 0\n",
    "movimiento_actual = 0\n",
    "speed = 0\n",
    "\n",
    "abiertos=[estado_inicial]\n",
    "cerrados=[]"
   ]
  },
  {
   "attachments": {},
   "cell_type": "markdown",
   "metadata": {},
   "source": [
    "#### Declaramos las funciones\n",
    "---"
   ]
  },
  {
   "attachments": {},
   "cell_type": "markdown",
   "metadata": {},
   "source": [
    "##### Función : Reset:\n",
    "- Esta función, realiza un reseteo de las variables usadas en el programa\n",
    "\n",
    "\n"
   ]
  },
  {
   "cell_type": "code",
   "execution_count": 40,
   "metadata": {},
   "outputs": [],
   "source": [
    "def Reset():\n",
    "    global discos,torres, origen, destino, estado_inicial,estado_actual,estado_final,movimientos_prediccion,movimiento_actual,speed,abiertos,cerrados\n",
    "    \n",
    "    discos = 0\n",
    "    torres = 0\n",
    "    origen = 0\n",
    "    destino = 0\n",
    "    estado_inicial = []\n",
    "    estado_actual = []\n",
    "    estado_final = []\n",
    "    movimientos_prediccion = 0\n",
    "    movimiento_actual = 0\n",
    "    speed = 0\n",
    "    abiertos=[estado_inicial]\n",
    "    cerrados=[]"
   ]
  },
  {
   "attachments": {},
   "cell_type": "markdown",
   "metadata": {},
   "source": [
    "##### Función : Petición de variables:\n",
    "- Esta función realizará una petición de las variable que necesita el programa, en este caso:\n",
    "   - nº Torres\n",
    "   - nº Discos\n",
    "   - nº de Torre de comienzo\n",
    "   - nº de Torre de final\n",
    "   - Velocidad de muestreo\n"
   ]
  },
  {
   "cell_type": "code",
   "execution_count": 58,
   "metadata": {},
   "outputs": [],
   "source": [
    "def Peticion_variables():\n",
    "    global discos, torres, estado_actual, origen, destino, torres_intermedias, lista_torres, movimientos_prediccion,speed\n",
    "    while discos == 0 or not discos.isnumeric():\n",
    "        print('Introduce el número de discos (No más de 6): ')\n",
    "        discos = input()\n",
    "        print()\n",
    "    discos = int(discos)\n",
    "    while torres == 0 or not torres.isnumeric():\n",
    "        print('Introduce el número de torres (No más de 6): ')\n",
    "        torres = input()\n",
    "        print()\n",
    "    torres = int(torres)\n",
    "    lista_torres = [x for x in range(1,torres+1)]\n",
    "    while origen == 0 or not origen.isnumeric():\n",
    "        print('Introduce la torre origen ', [x for x in range(1,torres+1)] ,' : ', end='')\n",
    "        print()\n",
    "        origen = input()\n",
    "    origen = int(origen)\n",
    "    while destino == 0 or not destino.isnumeric():\n",
    "        x= [x for x in range(1,torres+1)]\n",
    "        x.remove(origen)\n",
    "        print('Introduce la torre destino',x,' : ', end='')\n",
    "        print()\n",
    "        destino = input()\n",
    "    destino = int(destino)\n",
    "    torres_intermedias = [x for x in range(1,torres+1)]\n",
    "    torres_intermedias.remove(origen)\n",
    "    torres_intermedias.remove(destino)\n",
    "    for x in range(torres):\n",
    "        if x == origen-1:\n",
    "            estado_inicial.append([x for x in range(1,discos+1)])\n",
    "        else:\n",
    "            estado_inicial.append([])\n",
    "    estado_actual = copy.deepcopy(estado_inicial)\n",
    "    for x in range(torres):\n",
    "        if x == destino-1:\n",
    "            estado_final.append([x for x in range(1,discos+1)])\n",
    "        else:\n",
    "            estado_final.append([])\n",
    "    movimientos_prediccion = 2**discos-1\n",
    "    while speed == 0 or not speed.isnumeric():\n",
    "        print('Introduce la velocidad (recomendado de 1 a 20) : ', end='')\n",
    "        print()\n",
    "        speed = input()\n",
    "    speed = float(speed)\n",
    "    # count = 3\n",
    "    # print('Empezando en :')\n",
    "    # for x in range(count,0, -1):\n",
    "    #     print(x,'...')\n",
    "    #     time.sleep(1)"
   ]
  },
  {
   "attachments": {},
   "cell_type": "markdown",
   "metadata": {},
   "source": [
    "##### Función : Print State:\n",
    "- Esta función imprime el resultado de cada uno de los movimientos que realiza el programa para conseguir la jugada adecuada\n",
    "\n"
   ]
  },
  {
   "cell_type": "code",
   "execution_count": 59,
   "metadata": {},
   "outputs": [],
   "source": [
    "def Print_state():\n",
    "    os.system(limpia_pantalla)\n",
    "    print('====================')\n",
    "    print('Torres de Hanoi v0.1')\n",
    "    print('====================')\n",
    "    print()\n",
    "    print('Discos: ',discos)\n",
    "    print('Torres: ',torres)\n",
    "    print('Estado inicial : ', estado_inicial)\n",
    "    print('Estado actual :  ', estado_actual)\n",
    "    print('Estado final :   ', estado_final)\n",
    "    if torres  == 3:\n",
    "        print('Movimientos mínimos: ', movimientos_prediccion)\n",
    "    print('Movimiento actual : ', movimiento_actual)\n",
    "    time.sleep(1/speed)"
   ]
  },
  {
   "attachments": {},
   "cell_type": "markdown",
   "metadata": {},
   "source": [
    "##### Función : Comprobar estado:\n",
    "- El programa realiza aquí una comprobación, para ver si el estado es válido\n",
    "\n"
   ]
  },
  {
   "cell_type": "code",
   "execution_count": 60,
   "metadata": {},
   "outputs": [],
   "source": [
    "def Comprueba_estado(state):\n",
    "    assert type(state)== list and len(state)==torres\n",
    "    def es_valido(t):\n",
    "        for n in range(len(t)-1):\n",
    "            if(t[n]>t[n+1]):\n",
    "                return False\n",
    "        return True\n",
    "    def comprueba_torres(s):\n",
    "        for x in range(len(s)):\n",
    "            if not es_valido(s[x]):\n",
    "                return False\n",
    "        return True\n",
    "    if comprueba_torres(state):\n",
    "        return True\n",
    "    else:\n",
    "        return False"
   ]
  },
  {
   "attachments": {},
   "cell_type": "markdown",
   "metadata": {},
   "source": [
    "##### Función : Estados:\n",
    "- Realiza una lista de los posibles movimientos a partir de un estado dado"
   ]
  },
  {
   "cell_type": "code",
   "execution_count": 61,
   "metadata": {},
   "outputs": [],
   "source": [
    "def estados(s):\n",
    "    for del_torre in range(len(s)):\n",
    "        for add_torre in range(len(s)):\n",
    "            ns=copy.deepcopy(s)\n",
    "            if add_torre != del_torre and ns[del_torre]:\n",
    "                ns[add_torre].insert(0,ns[del_torre][0])\n",
    "                ns[del_torre].pop(0)\n",
    "                yield ns\n"
   ]
  },
  {
   "attachments": {},
   "cell_type": "markdown",
   "metadata": {},
   "source": [
    "##### Función :  Profundidad:\n",
    "- En esta función realiza una comprobación del estado, devolviendo el estado actual, si es el final, y si no, comprueba de cada uno de los estados siguientes posibles dados por la función \"estados()\" si es un estado válido y no está en la lista de cerrados, agregándolo a la lista de cerrados en ese caso, y usando recursividad, volver a realizar la misma comprobación.\n",
    "\n"
   ]
  },
  {
   "cell_type": "code",
   "execution_count": 62,
   "metadata": {},
   "outputs": [],
   "source": [
    "def Profundidad(actual, path=[]):\n",
    "    if actual==estado_final:\n",
    "        return [actual]\n",
    "    else: \n",
    "        for ns in estados(actual):\n",
    "            if Comprueba_estado(ns) and ns not in cerrados:\n",
    "                cerrados.append(ns)\n",
    "                r=Profundidad(ns,cerrados)\n",
    "                if r:\n",
    "                    r.insert(0,actual)\n",
    "                    return r\n",
    "        return []"
   ]
  },
  {
   "attachments": {},
   "cell_type": "markdown",
   "metadata": {},
   "source": [
    "##### Función : Pedir listado:\n",
    "- Esta función reliza una pregunta final, por si se quiere revisar la solución paso a paso o no\n",
    "\n"
   ]
  },
  {
   "cell_type": "code",
   "execution_count": 63,
   "metadata": {},
   "outputs": [],
   "source": [
    "def Pedir_listado():\n",
    "    global solucion\n",
    "    listado = input('===========================================\\n¿Quiere mostrar el listado de los pasos?\\n[S]i  para listarlo a continuación : ').upper()\n",
    "    if listado == 'S':\n",
    "        print('\\nAquí tiene la solución, paso a paso\\n')\n",
    "        for paso in solucion:\n",
    "            print(paso)\n",
    "        print('\\nGracias por usar el programa \"Torres de Hanoi v0.1\"\\n')\n",
    "    else:\n",
    "        print('\\nGracias por usar el programa \"Torres de Hanoi v0.1\"\\n')\n"
   ]
  },
  {
   "attachments": {},
   "cell_type": "markdown",
   "metadata": {},
   "source": [
    "##### Función : Ejecución total:\n",
    "- Esta función la usamos para ejecutar el grueso del programa, donde realizaremos:\n",
    "   - Un reset de las variables\n",
    "   - Intentaremos el código, evitando (cuando se acaben los índices de la búsqueda) que arroje un error de recursividad, y muestre la solución final\n",
    "\n"
   ]
  },
  {
   "cell_type": "code",
   "execution_count": 64,
   "metadata": {},
   "outputs": [],
   "source": [
    "def Ejecucion_total():\n",
    "    global estado_actual,movimiento_actual, solucion\n",
    "    Reset()\n",
    "    try:\n",
    "        Peticion_variables()\n",
    "        solucion = Profundidad(estado_inicial)\n",
    "        Print_state()\n",
    "        for paso in solucion:\n",
    "            estado_actual = paso\n",
    "            Print_state()\n",
    "            movimiento_actual += 1\n",
    "        Pedir_listado()\n",
    "    except RecursionError:\n",
    "        print('Disculpe las molestias pero con los parámetros introducimos, se excede la capacidad de cómputo del intérprete.\\nPor favor, vuelva a introducir nuevos parámetros con valores más bajos de Discos y/o Torres.')\n",
    "        input('Pulse cualquier tecla para continuar...')\n",
    "        Ejecucion_total()"
   ]
  },
  {
   "attachments": {},
   "cell_type": "markdown",
   "metadata": {},
   "source": [
    "##### Programa principal:\n",
    "---\n",
    "---\n",
    "\n"
   ]
  },
  {
   "attachments": {},
   "cell_type": "markdown",
   "metadata": {},
   "source": [
    "En este caso, como se puede observar, únicamente limpiamos la pantalla y lanzamos la función principal \"Ejecucion_total()\"\n",
    "\n",
    "##### RECUERDE:\n",
    "\n",
    "- Esta función realizará una petición de las variable que necesita el programa, en este caso:\n",
    "   - nº Torres\n",
    "   - nº Discos\n",
    "   - nº de Torre de comienzo\n",
    "   - nº de Torre de final\n",
    "   - Velocidad de muestreo\n",
    "\n",
    "DISCLAIMER : Ciertas peticiones de variables mediante el método \"input\" aparecen erroneamente, así como otras salidas de pantalla que exceden el espacio que reserva el notebook para su muestreo.\n",
    "\n",
    "Disculpen las molestias\n",
    "\n",
    "---"
   ]
  },
  {
   "cell_type": "code",
   "execution_count": 65,
   "metadata": {},
   "outputs": [
    {
     "name": "stdout",
     "output_type": "stream",
     "text": [
      "================================================\n",
      "Bienvenidos al juego de las Torres de Hanoi v0.2\n",
      "================================================\n",
      "\n",
      "Introduce el número de discos (No más de 6): \n",
      "\n",
      "Introduce el número de torres (No más de 6): \n",
      "\n",
      "Introduce la torre origen  [1, 2]  : \n",
      "Introduce la torre destino [2]  : \n",
      "Introduce la velocidad (recomendado de 1 a 20) : \n",
      "====================\n",
      "Torres de Hanoi v0.1\n",
      "====================\n",
      "\n",
      "Discos:  3\n",
      "Torres:  2\n",
      "Estado inicial :  [[1, 2, 3], []]\n",
      "Estado actual :   [[1, 2, 3], []]\n",
      "Estado final :    [[], [1, 2, 3]]\n",
      "Movimiento actual :  0\n",
      "\n",
      "Gracias por usar el programa \"Torres de Hanoi v0.1\"\n",
      "\n"
     ]
    }
   ],
   "source": [
    "os.system(limpia_pantalla)\n",
    "print('================================================')\n",
    "print('Bienvenidos al juego de las Torres de Hanoi v0.2')\n",
    "print('================================================')\n",
    "print()\n",
    "Ejecucion_total()"
   ]
  },
  {
   "cell_type": "code",
   "execution_count": null,
   "metadata": {},
   "outputs": [],
   "source": []
  }
 ],
 "metadata": {
  "kernelspec": {
   "display_name": "BDA",
   "language": "python",
   "name": "python3"
  },
  "language_info": {
   "codemirror_mode": {
    "name": "ipython",
    "version": 3
   },
   "file_extension": ".py",
   "mimetype": "text/x-python",
   "name": "python",
   "nbconvert_exporter": "python",
   "pygments_lexer": "ipython3",
   "version": "3.9.13"
  },
  "orig_nbformat": 4,
  "vscode": {
   "interpreter": {
    "hash": "f3b94f4d74fa7e54894a3ffb4da92ea947a3c0582cd50ec8d6f9301d7a4c6657"
   }
  }
 },
 "nbformat": 4,
 "nbformat_minor": 2
}
